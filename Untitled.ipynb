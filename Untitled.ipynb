{
 "cells": [
  {
   "cell_type": "code",
   "execution_count": 1,
   "id": "7eb05ed7",
   "metadata": {},
   "outputs": [],
   "source": [
    "import random"
   ]
  },
  {
   "cell_type": "code",
   "execution_count": 2,
   "id": "52feef34",
   "metadata": {},
   "outputs": [
    {
     "data": {
      "text/plain": [
       "0.6680974297337895"
      ]
     },
     "execution_count": 2,
     "metadata": {},
     "output_type": "execute_result"
    }
   ],
   "source": [
    "random.random() #returns floating point value between zero and one"
   ]
  },
  {
   "cell_type": "code",
   "execution_count": 10,
   "id": "76b78de0",
   "metadata": {},
   "outputs": [
    {
     "data": {
      "text/plain": [
       "25"
      ]
     },
     "execution_count": 10,
     "metadata": {},
     "output_type": "execute_result"
    }
   ],
   "source": [
    "random.randint(-90, 90) # create bondaries "
   ]
  },
  {
   "cell_type": "code",
   "execution_count": 6,
   "id": "a9e161e2",
   "metadata": {},
   "outputs": [
    {
     "data": {
      "text/plain": [
       "-3"
      ]
     },
     "execution_count": 6,
     "metadata": {},
     "output_type": "execute_result"
    }
   ],
   "source": [
    "random.randrange(-9,9,2) #TAKES steps from lowest to highest and selects random one"
   ]
  },
  {
   "cell_type": "code",
   "execution_count": 7,
   "id": "6d5e56af",
   "metadata": {},
   "outputs": [
    {
     "data": {
      "text/plain": [
       "-6.289464780613865"
      ]
     },
     "execution_count": 7,
     "metadata": {},
     "output_type": "execute_result"
    }
   ],
   "source": [
    "random.uniform(-10,10) #not an integer, just value with multiple decimal places"
   ]
  },
  {
   "cell_type": "code",
   "execution_count": 12,
   "id": "1adf0415",
   "metadata": {},
   "outputs": [],
   "source": [
    "x = 1\n",
    "latitudes = []\n",
    "while x < 11:\n",
    "    random_lat = random.randint(-90, 89) + random.random()\n",
    "    latitudes.append(random_lat)\n",
    "    x += 1\n"
   ]
  },
  {
   "cell_type": "code",
   "execution_count": 13,
   "id": "cde04f1e",
   "metadata": {},
   "outputs": [
    {
     "data": {
      "text/plain": [
       "[3.609662483504735,\n",
       " -74.40770669510536,\n",
       " 33.07500637873061,\n",
       " 81.51656059495716,\n",
       " 69.27577007970939,\n",
       " 2.8539018718849785,\n",
       " -35.613941592888,\n",
       " -55.491959278078376,\n",
       " -53.419159952889444,\n",
       " -58.347322126373115]"
      ]
     },
     "execution_count": 13,
     "metadata": {},
     "output_type": "execute_result"
    }
   ],
   "source": [
    "latitudes"
   ]
  },
  {
   "cell_type": "code",
   "execution_count": 14,
   "id": "07af4fee",
   "metadata": {},
   "outputs": [
    {
     "data": {
      "text/plain": [
       "-49"
      ]
     },
     "execution_count": 14,
     "metadata": {},
     "output_type": "execute_result"
    }
   ],
   "source": [
    "random.randrange(-90, 90, step=1)"
   ]
  },
  {
   "cell_type": "code",
   "execution_count": 15,
   "id": "c8704613",
   "metadata": {},
   "outputs": [
    {
     "data": {
      "text/plain": [
       "15"
      ]
     },
     "execution_count": 15,
     "metadata": {},
     "output_type": "execute_result"
    }
   ],
   "source": [
    "random.randrange(-90, 90, step=3)"
   ]
  },
  {
   "cell_type": "code",
   "execution_count": 16,
   "id": "5ca94dae",
   "metadata": {},
   "outputs": [
    {
     "data": {
      "text/plain": [
       "12.460321824202026"
      ]
     },
     "execution_count": 16,
     "metadata": {},
     "output_type": "execute_result"
    }
   ],
   "source": [
    "random.uniform(-90, 90)"
   ]
  },
  {
   "cell_type": "code",
   "execution_count": 17,
   "id": "19eda3e2",
   "metadata": {},
   "outputs": [],
   "source": [
    "#import teh NumPy module\n",
    "import numpy as np"
   ]
  },
  {
   "cell_type": "code",
   "execution_count": 18,
   "id": "9111b3f5",
   "metadata": {},
   "outputs": [
    {
     "data": {
      "text/plain": [
       "-86.21938986569602"
      ]
     },
     "execution_count": 18,
     "metadata": {},
     "output_type": "execute_result"
    }
   ],
   "source": [
    "np.random.uniform(-90.000, 90.000)"
   ]
  },
  {
   "cell_type": "code",
   "execution_count": 19,
   "id": "1713faf1",
   "metadata": {},
   "outputs": [
    {
     "data": {
      "text/plain": [
       "array([-61.32789348,  23.69712422,  39.75774564,  32.07181774,\n",
       "       -64.85320632, -20.41967336, -81.52137807, -23.08567395,\n",
       "       -87.54530632,   4.49186837,  13.20960506,  58.45594233,\n",
       "        38.44094914,  44.45738654, -72.06736405, -19.12742635,\n",
       "       -42.68226848,  51.79937661, -36.5322542 ,  42.1813474 ,\n",
       "       -42.9382951 ,  81.34652852,  15.2500231 ,  44.29553511,\n",
       "       -32.54986788, -89.80232476, -42.5103366 ,  53.36569181,\n",
       "       -51.00413523,  65.14139085,  75.3337928 ,  67.21862076,\n",
       "        78.3651337 , -66.38704837,  76.19429488,  34.94554017,\n",
       "       -31.23024683, -46.38609931, -18.44967904,  38.72823972,\n",
       "        81.52493772, -87.10718991, -47.71312699, -74.90668677,\n",
       "       -21.10342751, -42.18918227, -86.77136867,  66.80437005,\n",
       "        33.16489782,  73.79482421])"
      ]
     },
     "execution_count": 19,
     "metadata": {},
     "output_type": "execute_result"
    }
   ],
   "source": [
    "np.random.uniform(-90.000, 90.000, size = 50)"
   ]
  },
  {
   "cell_type": "code",
   "execution_count": 20,
   "id": "29e631bb",
   "metadata": {},
   "outputs": [],
   "source": [
    "# Import timeit.\n",
    "import timeit"
   ]
  },
  {
   "cell_type": "code",
   "execution_count": 21,
   "id": "50db4bd1",
   "metadata": {},
   "outputs": [
    {
     "name": "stdout",
     "output_type": "stream",
     "text": [
      "13.5 µs ± 265 ns per loop (mean ± std. dev. of 7 runs, 100000 loops each)\n"
     ]
    }
   ],
   "source": [
    "%timeit np.random.uniform(-90.000, 90.000, size=1500)"
   ]
  },
  {
   "cell_type": "code",
   "execution_count": 22,
   "id": "f70c2d40",
   "metadata": {},
   "outputs": [
    {
     "name": "stdout",
     "output_type": "stream",
     "text": [
      "1.28 ms ± 53.8 µs per loop (mean ± std. dev. of 7 runs, 1000 loops each)\n"
     ]
    }
   ],
   "source": [
    "def latitudes(size):\n",
    "    latitudes = []\n",
    "    x = 0\n",
    "    while x < (size):\n",
    "        random_lat = random.randint(-90, 90) + random.random()\n",
    "        latitudes.append(random_lat)\n",
    "        x += 1\n",
    "    return latitudes\n",
    "# Call the function with 1500.\n",
    "%timeit latitudes(1500)"
   ]
  },
  {
   "cell_type": "code",
   "execution_count": null,
   "id": "79760fc8",
   "metadata": {},
   "outputs": [],
   "source": []
  },
  {
   "cell_type": "code",
   "execution_count": null,
   "id": "acf32a87",
   "metadata": {},
   "outputs": [],
   "source": []
  },
  {
   "cell_type": "code",
   "execution_count": null,
   "id": "80949536",
   "metadata": {},
   "outputs": [],
   "source": []
  },
  {
   "cell_type": "code",
   "execution_count": null,
   "id": "233623b4",
   "metadata": {},
   "outputs": [],
   "source": []
  },
  {
   "cell_type": "code",
   "execution_count": null,
   "id": "71d299dc",
   "metadata": {},
   "outputs": [],
   "source": []
  }
 ],
 "metadata": {
  "kernelspec": {
   "display_name": "Python 3 (ipykernel)",
   "language": "python",
   "name": "python3"
  },
  "language_info": {
   "codemirror_mode": {
    "name": "ipython",
    "version": 3
   },
   "file_extension": ".py",
   "mimetype": "text/x-python",
   "name": "python",
   "nbconvert_exporter": "python",
   "pygments_lexer": "ipython3",
   "version": "3.9.7"
  }
 },
 "nbformat": 4,
 "nbformat_minor": 5
}
